{
 "cells": [
  {
   "cell_type": "code",
   "execution_count": 29,
   "metadata": {},
   "outputs": [],
   "source": [
    "import tensorflow as tf\n",
    "from tensorflow.keras.models import Sequential\n",
    "from tensorflow.keras.layers import Dense, Dropout\n",
    "from tensorflow.keras.optimizers import Adam\n",
    "from keras.regularizers import l2\n",
    "from sklearn.model_selection import train_test_split\n",
    "from sklearn.preprocessing import StandardScaler\n",
    "from sklearn.datasets import make_classification\n",
    "import numpy as np"
   ]
  },
  {
   "cell_type": "code",
   "execution_count": 2,
   "metadata": {},
   "outputs": [],
   "source": [
    "trainDataFilename = 'spamTrain1.csv'\n",
    "testDataFilename = 'spamTrain2.csv'\n",
    "\n",
    "data1 = np.loadtxt(trainDataFilename,delimiter=',')\n",
    "data2 = np.loadtxt(testDataFilename,delimiter=',')\n",
    "\n",
    "data = np.r_[data1,data2]\n",
    "X = data[:, :-1]\n",
    "y = data[:, -1]\n",
    "\n",
    "trainFeatures, testFeatures, trainLabels, testLabels = train_test_split(X, y, test_size=0.2, random_state=1, shuffle=True, stratify=y)"
   ]
  },
  {
   "cell_type": "code",
   "execution_count": 37,
   "metadata": {},
   "outputs": [],
   "source": [
    "reg = 0.1\n",
    "\n",
    "model = Sequential()\n",
    "\n",
    "model.add(Dense(32, input_dim=trainFeatures.shape[1], activation='relu', kernel_regularizer=l2(reg)))\n",
    "model.add(Dense(64, activation='relu', kernel_regularizer=l2(reg)))\n",
    "model.add(Dropout(0.5))\n",
    "model.add(Dense(64, activation='relu', kernel_regularizer=l2(reg)))\n",
    "model.add(Dropout(0.5))\n",
    "model.add(Dense(32, activation='relu', kernel_regularizer=l2(reg)))\n",
    "model.add(Dropout(0.5))\n",
    "model.add(Dense(16, activation='relu', kernel_regularizer=l2(reg)))\n",
    "\n",
    "model.add(Dense(1, activation='sigmoid'))\n",
    "model.compile(optimizer=Adam(), loss='binary_crossentropy', metrics=['accuracy'])"
   ]
  },
  {
   "cell_type": "code",
   "execution_count": 34,
   "metadata": {},
   "outputs": [
    {
     "name": "stdout",
     "output_type": "stream",
     "text": [
      "Epoch 1/20\n",
      "\u001b[1m600/600\u001b[0m \u001b[32m━━━━━━━━━━━━━━━━━━━━\u001b[0m\u001b[37m\u001b[0m \u001b[1m1s\u001b[0m 825us/step - accuracy: 0.6063 - loss: 0.6705 - val_accuracy: 0.6017 - val_loss: 0.6727\n",
      "Epoch 2/20\n",
      "\u001b[1m600/600\u001b[0m \u001b[32m━━━━━━━━━━━━━━━━━━━━\u001b[0m\u001b[37m\u001b[0m \u001b[1m0s\u001b[0m 793us/step - accuracy: 0.5874 - loss: 0.6788 - val_accuracy: 0.6017 - val_loss: 0.6726\n",
      "Epoch 3/20\n",
      "\u001b[1m600/600\u001b[0m \u001b[32m━━━━━━━━━━━━━━━━━━━━\u001b[0m\u001b[37m\u001b[0m \u001b[1m0s\u001b[0m 768us/step - accuracy: 0.6039 - loss: 0.6722 - val_accuracy: 0.6017 - val_loss: 0.6725\n",
      "Epoch 4/20\n",
      "\u001b[1m600/600\u001b[0m \u001b[32m━━━━━━━━━━━━━━━━━━━━\u001b[0m\u001b[37m\u001b[0m \u001b[1m0s\u001b[0m 763us/step - accuracy: 0.6100 - loss: 0.6693 - val_accuracy: 0.6017 - val_loss: 0.6725\n",
      "Epoch 5/20\n",
      "\u001b[1m600/600\u001b[0m \u001b[32m━━━━━━━━━━━━━━━━━━━━\u001b[0m\u001b[37m\u001b[0m \u001b[1m0s\u001b[0m 778us/step - accuracy: 0.6015 - loss: 0.6727 - val_accuracy: 0.6017 - val_loss: 0.6726\n",
      "Epoch 6/20\n",
      "\u001b[1m600/600\u001b[0m \u001b[32m━━━━━━━━━━━━━━━━━━━━\u001b[0m\u001b[37m\u001b[0m \u001b[1m0s\u001b[0m 783us/step - accuracy: 0.6288 - loss: 0.6607 - val_accuracy: 0.6017 - val_loss: 0.6726\n",
      "Epoch 7/20\n",
      "\u001b[1m600/600\u001b[0m \u001b[32m━━━━━━━━━━━━━━━━━━━━\u001b[0m\u001b[37m\u001b[0m \u001b[1m0s\u001b[0m 768us/step - accuracy: 0.5865 - loss: 0.6784 - val_accuracy: 0.6017 - val_loss: 0.6724\n",
      "Epoch 8/20\n",
      "\u001b[1m600/600\u001b[0m \u001b[32m━━━━━━━━━━━━━━━━━━━━\u001b[0m\u001b[37m\u001b[0m \u001b[1m0s\u001b[0m 783us/step - accuracy: 0.6303 - loss: 0.6603 - val_accuracy: 0.6017 - val_loss: 0.6737\n",
      "Epoch 9/20\n",
      "\u001b[1m600/600\u001b[0m \u001b[32m━━━━━━━━━━━━━━━━━━━━\u001b[0m\u001b[37m\u001b[0m \u001b[1m0s\u001b[0m 773us/step - accuracy: 0.6077 - loss: 0.6711 - val_accuracy: 0.6017 - val_loss: 0.6724\n",
      "Epoch 10/20\n",
      "\u001b[1m600/600\u001b[0m \u001b[32m━━━━━━━━━━━━━━━━━━━━\u001b[0m\u001b[37m\u001b[0m \u001b[1m0s\u001b[0m 775us/step - accuracy: 0.6200 - loss: 0.6650 - val_accuracy: 0.6017 - val_loss: 0.6724\n",
      "Epoch 11/20\n",
      "\u001b[1m600/600\u001b[0m \u001b[32m━━━━━━━━━━━━━━━━━━━━\u001b[0m\u001b[37m\u001b[0m \u001b[1m0s\u001b[0m 778us/step - accuracy: 0.5894 - loss: 0.6775 - val_accuracy: 0.6017 - val_loss: 0.6724\n",
      "Epoch 12/20\n",
      "\u001b[1m600/600\u001b[0m \u001b[32m━━━━━━━━━━━━━━━━━━━━\u001b[0m\u001b[37m\u001b[0m \u001b[1m0s\u001b[0m 768us/step - accuracy: 0.6055 - loss: 0.6711 - val_accuracy: 0.6017 - val_loss: 0.6724\n",
      "Epoch 13/20\n",
      "\u001b[1m600/600\u001b[0m \u001b[32m━━━━━━━━━━━━━━━━━━━━\u001b[0m\u001b[37m\u001b[0m \u001b[1m0s\u001b[0m 773us/step - accuracy: 0.5926 - loss: 0.6764 - val_accuracy: 0.6017 - val_loss: 0.6723\n",
      "Epoch 14/20\n",
      "\u001b[1m600/600\u001b[0m \u001b[32m━━━━━━━━━━━━━━━━━━━━\u001b[0m\u001b[37m\u001b[0m \u001b[1m0s\u001b[0m 788us/step - accuracy: 0.6091 - loss: 0.6694 - val_accuracy: 0.6017 - val_loss: 0.6724\n",
      "Epoch 15/20\n",
      "\u001b[1m600/600\u001b[0m \u001b[32m━━━━━━━━━━━━━━━━━━━━\u001b[0m\u001b[37m\u001b[0m \u001b[1m0s\u001b[0m 786us/step - accuracy: 0.5951 - loss: 0.6752 - val_accuracy: 0.6017 - val_loss: 0.6724\n",
      "Epoch 16/20\n",
      "\u001b[1m600/600\u001b[0m \u001b[32m━━━━━━━━━━━━━━━━━━━━\u001b[0m\u001b[37m\u001b[0m \u001b[1m0s\u001b[0m 793us/step - accuracy: 0.5948 - loss: 0.6758 - val_accuracy: 0.6017 - val_loss: 0.6724\n",
      "Epoch 17/20\n",
      "\u001b[1m600/600\u001b[0m \u001b[32m━━━━━━━━━━━━━━━━━━━━\u001b[0m\u001b[37m\u001b[0m \u001b[1m0s\u001b[0m 785us/step - accuracy: 0.5817 - loss: 0.6809 - val_accuracy: 0.6017 - val_loss: 0.6726\n",
      "Epoch 18/20\n",
      "\u001b[1m600/600\u001b[0m \u001b[32m━━━━━━━━━━━━━━━━━━━━\u001b[0m\u001b[37m\u001b[0m \u001b[1m0s\u001b[0m 766us/step - accuracy: 0.5975 - loss: 0.6750 - val_accuracy: 0.6017 - val_loss: 0.6723\n",
      "Epoch 19/20\n",
      "\u001b[1m600/600\u001b[0m \u001b[32m━━━━━━━━━━━━━━━━━━━━\u001b[0m\u001b[37m\u001b[0m \u001b[1m0s\u001b[0m 795us/step - accuracy: 0.5967 - loss: 0.6747 - val_accuracy: 0.6017 - val_loss: 0.6724\n",
      "Epoch 20/20\n",
      "\u001b[1m600/600\u001b[0m \u001b[32m━━━━━━━━━━━━━━━━━━━━\u001b[0m\u001b[37m\u001b[0m \u001b[1m0s\u001b[0m 776us/step - accuracy: 0.5964 - loss: 0.6748 - val_accuracy: 0.6017 - val_loss: 0.6724\n"
     ]
    }
   ],
   "source": [
    "history = model.fit(trainFeatures, trainLabels, epochs=20, batch_size=4, validation_data=(testFeatures, testLabels))"
   ]
  }
 ],
 "metadata": {
  "kernelspec": {
   "display_name": "base",
   "language": "python",
   "name": "python3"
  },
  "language_info": {
   "codemirror_mode": {
    "name": "ipython",
    "version": 3
   },
   "file_extension": ".py",
   "mimetype": "text/x-python",
   "name": "python",
   "nbconvert_exporter": "python",
   "pygments_lexer": "ipython3",
   "version": "3.12.4"
  }
 },
 "nbformat": 4,
 "nbformat_minor": 2
}
