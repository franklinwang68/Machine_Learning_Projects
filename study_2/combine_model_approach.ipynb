{
 "cells": [
  {
   "cell_type": "code",
   "execution_count": 1,
   "metadata": {},
   "outputs": [],
   "source": [
    "import numpy as np\n",
    "import matplotlib.pyplot as plt\n",
    "from sklearn.metrics import f1_score, accuracy_score, confusion_matrix, ConfusionMatrixDisplay\n",
    "\n",
    "import torch\n",
    "import torch.nn as nn\n",
    "import torch.nn.functional as F\n",
    "import torch.optim as optim\n",
    "from torch.utils.data import DataLoader, TensorDataset\n",
    "\n",
    "device = torch.device(\"cuda\" if torch.cuda.is_available() else \"cpu\")\n",
    "\n",
    "\n",
    "sensor_names = ['Acc_x', 'Acc_y', 'Acc_z', 'Gyr_x', 'Gyr_y', 'Gyr_z']\n",
    "label_names = [\"Resting\", \"Walking\", \"Running\", \"Driving\"]\n",
    "# Last row of training data for train/test split\n",
    "train_end_index = 3511"
   ]
  },
  {
   "cell_type": "code",
   "execution_count": 2,
   "metadata": {},
   "outputs": [],
   "source": [
    "def calculate_jerk(x,y,z):\n",
    "    jerk_x = np.diff(x, axis=1)\n",
    "    jerk_y = np.diff(y, axis=1)\n",
    "    jerk_z = np.diff(z, axis=1)\n",
    "\n",
    "    jerk_x = np.hstack((np.zeros((jerk_x.shape[0], 1)), jerk_x))\n",
    "    jerk_y = np.hstack((np.zeros((jerk_y.shape[0], 1)), jerk_y))\n",
    "    jerk_z = np.hstack((np.zeros((jerk_z.shape[0], 1)), jerk_z))\n",
    "\n",
    "    return np.sqrt(jerk_x**2 + jerk_y**2 + jerk_z**2)"
   ]
  },
  {
   "cell_type": "code",
   "execution_count": 13,
   "metadata": {},
   "outputs": [
    {
     "data": {
      "text/plain": [
       "(7653, 60)"
      ]
     },
     "execution_count": 13,
     "metadata": {},
     "output_type": "execute_result"
    }
   ],
   "source": [
    "p = np.loadtxt('Acc_x' + '_train_1.csv', delimiter=',')\n",
    "q = np.loadtxt('Acc_x' + '_train_2.csv', delimiter=',')\n",
    "\n",
    "np.concatenate((p,q)).shape"
   ]
  },
  {
   "cell_type": "code",
   "execution_count": 23,
   "metadata": {},
   "outputs": [],
   "source": [
    "# load in the given \"real\" data\n",
    "# this loading of generated and real data are done seperately to ensure that distrubtions between train and test sets are even.\n",
    "\n",
    "labels = np.concatenate((np.loadtxt('labels_train_1.csv', dtype='int'), np.loadtxt('labels_train_2.csv', dtype='int')))\n",
    "data_slice_0 = np.concatenate((np.loadtxt(sensor_names[0] + '_train_1.csv', delimiter=','),\n",
    "                               np.loadtxt(sensor_names[0] + '_train_2.csv', delimiter=',')))\n",
    "data = np.empty((data_slice_0.shape[0], data_slice_0.shape[1],\n",
    "                    len(sensor_names)))\n",
    "data[:, :, 0] = data_slice_0\n",
    "del data_slice_0\n",
    "for sensor_index in range(1, len(sensor_names)):\n",
    "    data[:, :, sensor_index] = np.concatenate((np.loadtxt(sensor_names[sensor_index] + '_train_1.csv', delimiter=','),\n",
    "                                                np.loadtxt(sensor_names[sensor_index] + '_train_2.csv', delimiter=',')))\n",
    "    \n",
    "\n",
    "acc_data = data[:,:, 0:3]\n",
    "gyr_data = data[:,:, 3:6]\n",
    "\n",
    "total_acc = np.linalg.norm(acc_data, axis=-1)\n",
    "total_gyr = np.linalg.norm(gyr_data, axis=-1)\n",
    "\n",
    "acc_jerk_magnitude = calculate_jerk(acc_data[:, :, 0], acc_data[:, :, 1], acc_data[:, :, 2])\n",
    "#gyr_jerk_magnitude = calculate_jerk(gyr_data[:, :, 0], gyr_data[:, :, 1], gyr_data[:, :, 2])\n",
    "\n",
    "\n",
    "\n",
    "total_data = np.stack((total_acc, total_gyr, acc_jerk_magnitude), axis=-1)\n",
    "\n",
    "given_train_data = total_data[:train_end_index+1, :, :]\n",
    "given_train_labels = labels[:train_end_index+1]\n",
    "given_test_data = total_data[train_end_index+1:, :, :]\n",
    "given_test_labels = labels[train_end_index+1:]"
   ]
  },
  {
   "cell_type": "code",
   "execution_count": 181,
   "metadata": {},
   "outputs": [],
   "source": [
    "# load in generated data\n",
    "\n",
    "# gen_labels = np.loadtxt('generated_labels_train_1.csv', dtype='int')\n",
    "# data_slice_0 = np.loadtxt('generated_' + sensor_names[0] + '_train_1.csv',\n",
    "#                             delimiter=',')\n",
    "# data = np.empty((data_slice_0.shape[0], data_slice_0.shape[1],\n",
    "#                     len(sensor_names)))\n",
    "# data[:, :, 0] = data_slice_0\n",
    "# del data_slice_0\n",
    "# for sensor_index in range(1, len(sensor_names)):\n",
    "#     data[:, :, sensor_index] = np.loadtxt(\n",
    "#         'generated_' + sensor_names[sensor_index] + '_train_1.csv', delimiter=',')\n",
    "    \n",
    "\n",
    "# acc_data = data[:,:, 0:3]\n",
    "# gyr_data = data[:,:, 3:6]\n",
    "\n",
    "# total_acc = np.linalg.norm(acc_data, axis=-1)\n",
    "# total_gyr = np.linalg.norm(gyr_data, axis=-1)\n",
    "\n",
    "# x = acc_data[:, :, 0]\n",
    "# y = acc_data[:, :, 1]\n",
    "# z = acc_data[:, :, 2]\n",
    "\n",
    "\n",
    "# jerk_x = np.diff(x, axis=1)\n",
    "# jerk_y = np.diff(y, axis=1)\n",
    "# jerk_z = np.diff(z, axis=1)\n",
    "\n",
    "# jerk_x = np.hstack((np.zeros((jerk_x.shape[0], 1)), jerk_x))\n",
    "# jerk_y = np.hstack((np.zeros((jerk_y.shape[0], 1)), jerk_y))\n",
    "# jerk_z = np.hstack((np.zeros((jerk_z.shape[0], 1)), jerk_z))\n",
    "\n",
    "# jerk_magnitude = np.sqrt(jerk_x**2 + jerk_y**2 + jerk_z**2)\n",
    "\n",
    "\n",
    "\n",
    "# total_data = np.stack((total_acc, total_gyr, jerk_magnitude), axis=-1)\n",
    "\n",
    "# gen_train_data = total_data[:train_end_index+1, :, :]\n",
    "# gen_train_labels = gen_labels[:train_end_index+1]\n",
    "# gen_test_data = total_data[train_end_index+1:, :, :]\n",
    "# gen_test_labels = gen_labels[train_end_index+1:]"
   ]
  },
  {
   "cell_type": "code",
   "execution_count": 24,
   "metadata": {},
   "outputs": [],
   "source": [
    "# now combine given and generated sets\n",
    "\n",
    "# train_data = np.concatenate((given_train_data, gen_train_data), axis=0)\n",
    "# train_labels = np.concatenate((given_train_labels, gen_train_labels), axis=0)\n",
    "# test_data = np.concatenate((given_test_data, gen_test_data), axis=0)\n",
    "# test_labels = np.concatenate((given_test_labels, gen_test_labels), axis=0)\n",
    "\n",
    "train_data = given_train_data\n",
    "train_labels = given_train_labels\n",
    "test_data = given_test_data\n",
    "test_labels = given_test_labels\n"
   ]
  },
  {
   "cell_type": "code",
   "execution_count": 25,
   "metadata": {},
   "outputs": [
    {
     "name": "stdout",
     "output_type": "stream",
     "text": [
      "CNN_RNN_Model(\n",
      "  (cnn): Sequential(\n",
      "    (0): Conv1d(3, 16, kernel_size=(3,), stride=(1,), padding=(1,))\n",
      "    (1): ReLU()\n",
      "    (2): MaxPool1d(kernel_size=2, stride=2, padding=0, dilation=1, ceil_mode=False)\n",
      "    (3): Dropout(p=0.5, inplace=False)\n",
      "    (4): Conv1d(16, 32, kernel_size=(3,), stride=(1,), padding=(1,))\n",
      "    (5): ReLU()\n",
      "    (6): MaxPool1d(kernel_size=2, stride=2, padding=0, dilation=1, ceil_mode=False)\n",
      "    (7): Dropout(p=0.5, inplace=False)\n",
      "    (8): Conv1d(32, 64, kernel_size=(3,), stride=(1,), padding=(1,))\n",
      "    (9): ReLU()\n",
      "    (10): MaxPool1d(kernel_size=2, stride=2, padding=0, dilation=1, ceil_mode=False)\n",
      "    (11): Dropout(p=0.5, inplace=False)\n",
      "  )\n",
      "  (rnn): LSTM(448, 128, num_layers=4, batch_first=True, dropout=0.3)\n",
      "  (fc): Linear(in_features=128, out_features=4, bias=True)\n",
      ")\n"
     ]
    }
   ],
   "source": [
    "class CNN_RNN_Model(nn.Module):\n",
    "    def __init__(self, num_classes=4, input_channels=6, feature_length=60, rnn_hidden_size=128, num_rnn_layers=4):\n",
    "        super(CNN_RNN_Model, self).__init__()\n",
    "        \n",
    "        # CNN for feature extraction\n",
    "        self.cnn = nn.Sequential(\n",
    "            nn.Conv1d(in_channels=input_channels, out_channels=16, kernel_size=3, stride=1, padding=1),  # Conv layer\n",
    "            nn.ReLU(),  # Activation\n",
    "            nn.MaxPool1d(kernel_size=2, stride=2),  # Downsampling\n",
    "            nn.Dropout(p=0.5),\n",
    "\n",
    "            nn.Conv1d(in_channels=16, out_channels=32, kernel_size=3, stride=1, padding=1),  # Another Conv layer\n",
    "            nn.ReLU(),\n",
    "            nn.MaxPool1d(kernel_size=2, stride=2),\n",
    "            nn.Dropout(p=0.5),\n",
    "\n",
    "            nn.Conv1d(in_channels=32, out_channels=64, kernel_size=3, stride=1, padding=1),  # Another Conv layer\n",
    "            nn.ReLU(),\n",
    "            nn.MaxPool1d(kernel_size=2, stride=2),\n",
    "            nn.Dropout(p=0.5),\n",
    "\n",
    "        )\n",
    "        \n",
    "        # Compute the output size after CNN layers\n",
    "        cnn_output_size = 448 #32 * (feature_length // 4)  # Adjust this if CNN structure changes\n",
    "\n",
    "        # RNN for temporal dependency learning\n",
    "        self.rnn = nn.LSTM(input_size=cnn_output_size, \n",
    "                           hidden_size=rnn_hidden_size, \n",
    "                           num_layers=num_rnn_layers, \n",
    "                           batch_first=True, dropout=0.3)\n",
    "\n",
    "        # Fully connected layer for classification\n",
    "        self.fc = nn.Linear(rnn_hidden_size, num_classes)\n",
    "\n",
    "    def forward(self, x):\n",
    "        # Input shape: (batch_size, seq_length, input_channels, feature_length)\n",
    "        batch_size, seq_length, channels, feature_length = x.size()\n",
    "\n",
    "        # Merge batch and sequence dimensions for CNN processing\n",
    "        x = x.view(-1, channels, feature_length)  # Shape: (batch_size * seq_length, channels, feature_length)\n",
    "        \n",
    "        # Pass through CNN\n",
    "        x = self.cnn(x)  # Shape: (batch_size * seq_length, 32, feature_length // 4)\n",
    "        x = x.view(batch_size, seq_length, -1)  # Reshape back: (batch_size, seq_length, cnn_output_size)\n",
    "\n",
    "        # Pass through RNN\n",
    "        rnn_out, _ = self.rnn(x)  # Shape: (batch_size, seq_length, rnn_hidden_size)\n",
    "\n",
    "        # Use the final output of the RNN for classification\n",
    "        final_output = rnn_out[:, -1, :]  # Shape: (batch_size, rnn_hidden_size)\n",
    "\n",
    "        # Pass through the fully connected layer\n",
    "        out = self.fc(final_output)  # Shape: (batch_size, num_classes)\n",
    "\n",
    "        return out\n",
    "\n",
    "model = CNN_RNN_Model(num_classes=4, input_channels=3, feature_length=60)\n",
    "print(model)\n"
   ]
  },
  {
   "cell_type": "code",
   "execution_count": 26,
   "metadata": {},
   "outputs": [],
   "source": [
    "# create sequences of examples to learn the temporal relationship between them.\n",
    "\n",
    "def create_data_sequences(features, labels, seq_length):\n",
    "    # Generate sequences and corresponding labels\n",
    "    sequences = []\n",
    "    sequence_labels = []\n",
    "\n",
    "    # pad the first few sequences with zero vectors\n",
    "    empty_vectors = np.zeros((seq_length-1, features.shape[1], features.shape[2]))\n",
    "    features = np.vstack((empty_vectors, features))\n",
    "\n",
    "\n",
    "    for i in range(len(features)-seq_length+1):\n",
    "        sequence = features[i:i + seq_length] \n",
    "        sequences.append(sequence.transpose(0, 2, 1))\n",
    "        \n",
    "        # Use the label of the last example in the sequence as the sequence label\n",
    "        sequence_labels.append(labels[i])\n",
    "\n",
    "    sequences = torch.tensor(sequences, dtype=torch.float32)\n",
    "    sequence_labels = torch.tensor(sequence_labels, dtype=torch.long)\n",
    "\n",
    "\n",
    "    return sequences, sequence_labels"
   ]
  },
  {
   "cell_type": "code",
   "execution_count": 74,
   "metadata": {},
   "outputs": [],
   "source": [
    "#one_hot_sequence_labels = F.one_hot(sequence_labels-1, num_classes=4).float()\n",
    "\n",
    "SEQUENCE_LENGTH = 5\n",
    "\n",
    "# training dataset\n",
    "sequences, sequence_labels = create_data_sequences(train_data, train_labels, seq_length=SEQUENCE_LENGTH)\n",
    "\n",
    "# test dataset\n",
    "test_sequences, test_sequence_labels = create_data_sequences(test_data, test_labels, seq_length=SEQUENCE_LENGTH)\n",
    "test_sequence_labels.to(device)\n",
    "test_sequences.to(device)\n",
    "\n",
    "dataset = TensorDataset(sequences, sequence_labels-1)\n",
    "dataloader = DataLoader(dataset, batch_size=32, shuffle=True)\n",
    "\n",
    "model = CNN_RNN_Model(num_classes=4, input_channels=3, feature_length=60).to(device)\n",
    "criterion = nn.CrossEntropyLoss()\n",
    "optimizer = torch.optim.Adam(model.parameters(), lr=0.001)"
   ]
  },
  {
   "cell_type": "code",
   "execution_count": 61,
   "metadata": {},
   "outputs": [],
   "source": [
    "def compute_accuracy(outputs, targets):\n",
    "    predicted_classes = torch.argmax(outputs, dim=1)\n",
    "    accuracy = accuracy_score(targets, predicted_classes.cpu())\n",
    "    return accuracy"
   ]
  },
  {
   "cell_type": "code",
   "execution_count": 75,
   "metadata": {},
   "outputs": [
    {
     "name": "stdout",
     "output_type": "stream",
     "text": [
      "Epoch [1/50], Train Accuracy: 0.3695, Test Accuracy: 0.6035\n",
      "Epoch [2/50], Train Accuracy: 0.6531, Test Accuracy: 0.7382\n",
      "Epoch [3/50], Train Accuracy: 0.7694, Test Accuracy: 0.6631\n",
      "Epoch [4/50], Train Accuracy: 0.8195, Test Accuracy: 0.6629\n",
      "Epoch [5/50], Train Accuracy: 0.8437, Test Accuracy: 0.7716\n",
      "Epoch [6/50], Train Accuracy: 0.8883, Test Accuracy: 0.6484\n",
      "Epoch [7/50], Train Accuracy: 0.8943, Test Accuracy: 0.7711\n",
      "Epoch [8/50], Train Accuracy: 0.9249, Test Accuracy: 0.8211\n",
      "Epoch [9/50], Train Accuracy: 0.9220, Test Accuracy: 0.7776\n",
      "Epoch [10/50], Train Accuracy: 0.9354, Test Accuracy: 0.7904\n",
      "Epoch [11/50], Train Accuracy: 0.9412, Test Accuracy: 0.9256\n",
      "Epoch [12/50], Train Accuracy: 0.9462, Test Accuracy: 0.7972\n",
      "Epoch [13/50], Train Accuracy: 0.9437, Test Accuracy: 0.8580\n",
      "Epoch [14/50], Train Accuracy: 0.9469, Test Accuracy: 0.9263\n",
      "Epoch [15/50], Train Accuracy: 0.9533, Test Accuracy: 0.9283\n",
      "Epoch [16/50], Train Accuracy: 0.9499, Test Accuracy: 0.8595\n",
      "Epoch [17/50], Train Accuracy: 0.9462, Test Accuracy: 0.9085\n",
      "Epoch [18/50], Train Accuracy: 0.9618, Test Accuracy: 0.9140\n",
      "Epoch [19/50], Train Accuracy: 0.9642, Test Accuracy: 0.9285\n",
      "Epoch [20/50], Train Accuracy: 0.9617, Test Accuracy: 0.8991\n",
      "Epoch [21/50], Train Accuracy: 0.9614, Test Accuracy: 0.9548\n",
      "Epoch [22/50], Train Accuracy: 0.9695, Test Accuracy: 0.9635\n",
      "Epoch [23/50], Train Accuracy: 0.9691, Test Accuracy: 0.9326\n",
      "Epoch [24/50], Train Accuracy: 0.9659, Test Accuracy: 0.9614\n",
      "Epoch [25/50], Train Accuracy: 0.9675, Test Accuracy: 0.9585\n",
      "Epoch [26/50], Train Accuracy: 0.9662, Test Accuracy: 0.9160\n",
      "Epoch [27/50], Train Accuracy: 0.9739, Test Accuracy: 0.9370\n",
      "Epoch [28/50], Train Accuracy: 0.9739, Test Accuracy: 0.9481\n",
      "Epoch [29/50], Train Accuracy: 0.9682, Test Accuracy: 0.9536\n",
      "Epoch [30/50], Train Accuracy: 0.9724, Test Accuracy: 0.9594\n",
      "Epoch [31/50], Train Accuracy: 0.9741, Test Accuracy: 0.8747\n",
      "Epoch [32/50], Train Accuracy: 0.9679, Test Accuracy: 0.9486\n",
      "Epoch [33/50], Train Accuracy: 0.9743, Test Accuracy: 0.9643\n",
      "Epoch [34/50], Train Accuracy: 0.9778, Test Accuracy: 0.9645\n",
      "Epoch [35/50], Train Accuracy: 0.9707, Test Accuracy: 0.9618\n",
      "Epoch [36/50], Train Accuracy: 0.9764, Test Accuracy: 0.9602\n",
      "Epoch [37/50], Train Accuracy: 0.9776, Test Accuracy: 0.9034\n",
      "Epoch [38/50], Train Accuracy: 0.9736, Test Accuracy: 0.9556\n",
      "Epoch [39/50], Train Accuracy: 0.9824, Test Accuracy: 0.9445\n",
      "Epoch [40/50], Train Accuracy: 0.9801, Test Accuracy: 0.9623\n",
      "Epoch [41/50], Train Accuracy: 0.9818, Test Accuracy: 0.9660\n",
      "Epoch [42/50], Train Accuracy: 0.9778, Test Accuracy: 0.9681\n",
      "Epoch [43/50], Train Accuracy: 0.9825, Test Accuracy: 0.9628\n",
      "Epoch [44/50], Train Accuracy: 0.9773, Test Accuracy: 0.9628\n",
      "Epoch [45/50], Train Accuracy: 0.9789, Test Accuracy: 0.9623\n",
      "Epoch [46/50], Train Accuracy: 0.9799, Test Accuracy: 0.9244\n",
      "Epoch [47/50], Train Accuracy: 0.9848, Test Accuracy: 0.9592\n",
      "Epoch [48/50], Train Accuracy: 0.9790, Test Accuracy: 0.9643\n",
      "Epoch [49/50], Train Accuracy: 0.9849, Test Accuracy: 0.9604\n",
      "Epoch [50/50], Train Accuracy: 0.9778, Test Accuracy: 0.9565\n"
     ]
    },
    {
     "data": {
      "image/png": "[encoded data removed]",
      "text/plain": [
       "<Figure size 640x480 with 1 Axes>"
      ]
     },
     "metadata": {},
     "output_type": "display_data"
    }
   ],
   "source": [
    "# Training loop\n",
    "EPOCHS = 50\n",
    "\n",
    "train_acc = []\n",
    "test_acc = []\n",
    "\n",
    "for epoch in range(EPOCHS):\n",
    "    model.train()\n",
    "    running_loss = 0.0\n",
    "    running_acc = 0.0\n",
    "\n",
    "    for batch_sequences, batch_labels in dataloader:\n",
    "        batch_sequences, batch_labels = batch_sequences.to(device), batch_labels.to(device)\n",
    "        \n",
    "        outputs = model(batch_sequences)\n",
    "        predicted_classes = torch.argmax(outputs, dim=1)\n",
    "\n",
    "        loss = criterion(outputs, batch_labels)\n",
    "        \n",
    "        optimizer.zero_grad()\n",
    "        loss.backward()\n",
    "        optimizer.step()\n",
    "        \n",
    "        running_loss += loss.item()\n",
    "\n",
    "        running_acc += compute_accuracy(outputs, batch_labels.cpu())\n",
    "\n",
    "    avg_acc = running_acc/len(dataloader)\n",
    "    train_acc.append(avg_acc)\n",
    "\n",
    "    model.eval() \n",
    "    with torch.no_grad():        \n",
    "        test_outputs = model(test_sequences.to(device))\n",
    "        avg_test_acc = compute_accuracy(test_outputs, test_sequence_labels - 1)\n",
    "        test_acc.append(avg_test_acc)\n",
    "        print(f\"Epoch [{epoch+1}/{EPOCHS}], Train Accuracy: {avg_acc:.4f}, Test Accuracy: {avg_test_acc:.4f}\")\n",
    "\n",
    "\n",
    "plt.plot(train_acc, label='Training Acc')\n",
    "plt.plot(test_acc, label='Testing Acc')\n",
    "plt.xlabel('Epoch')\n",
    "plt.ylabel('Acc')\n",
    "plt.title('Training Acc vs. Epochs')\n",
    "plt.legend()\n",
    "plt.show()"
   ]
  },
  {
   "cell_type": "code",
   "execution_count": 78,
   "metadata": {},
   "outputs": [],
   "source": [
    "# generated predicted classes for the test set\n",
    "\n",
    "test_sequences, test_sequence_labels = create_data_sequences(test_data, test_labels, seq_length=SEQUENCE_LENGTH)\n",
    "\n",
    "model.eval()\n",
    "with torch.no_grad():\n",
    "    test_sequences = test_sequences.to(device)\n",
    "    \n",
    "    test_outputs = model(test_sequences)\n",
    "\n",
    "    predicted_classes = torch.argmax(test_outputs, dim=1)"
   ]
  },
  {
   "cell_type": "code",
   "execution_count": 79,
   "metadata": {},
   "outputs": [
    {
     "name": "stdout",
     "output_type": "stream",
     "text": [
      "Accuracy: 0.9565322385897126\n",
      "Micro-averaged F1 score: 0.9565322385897126\n",
      "Macro-averaged F1 score: 0.9618943814025499\n"
     ]
    }
   ],
   "source": [
    "#test_labels_pt = torch.tensor(test_labels - 1, dtype=torch.long)\n",
    "\n",
    "# Compute micro and macro-averaged F1 scores\n",
    "accuracy = accuracy_score(test_sequence_labels-1, predicted_classes.cpu())\n",
    "micro_f1 = f1_score(test_sequence_labels-1, predicted_classes.cpu(), average='micro')\n",
    "macro_f1 = f1_score(test_sequence_labels-1, predicted_classes.cpu(), average='macro')\n",
    "print(f'Accuracy: {accuracy}')\n",
    "print(f'Micro-averaged F1 score: {micro_f1}')\n",
    "print(f'Macro-averaged F1 score: {macro_f1}')"
   ]
  },
  {
   "cell_type": "code",
   "execution_count": 80,
   "metadata": {},
   "outputs": [
    {
     "data": {
      "image/png": "[encoded data removed]",
      "text/plain": [
       "<Figure size 640x480 with 2 Axes>"
      ]
     },
     "metadata": {},
     "output_type": "display_data"
    }
   ],
   "source": [
    "cm = confusion_matrix(test_sequence_labels-1, predicted_classes.cpu(), labels=range(4))\n",
    "\n",
    "disp = ConfusionMatrixDisplay(confusion_matrix=cm, display_labels=label_names)\n",
    "disp.plot()\n",
    "plt.title(\"Confusion Matrix\")\n",
    "plt.show()"
   ]
  },
  {
   "cell_type": "code",
   "execution_count": 81,
   "metadata": {},
   "outputs": [],
   "source": [
    "torch.save(model.state_dict(), \"combined_model.pth\")"
   ]
  }
 ],
 "metadata": {
  "kernelspec": {
   "display_name": "base",
   "language": "python",
   "name": "python3"
  },
  "language_info": {
   "codemirror_mode": {
    "name": "ipython",
    "version": 3
   },
   "file_extension": ".py",
   "mimetype": "text/x-python",
   "name": "python",
   "nbconvert_exporter": "python",
   "pygments_lexer": "ipython3",
   "version": "3.12.4"
  }
 },
 "nbformat": 4,
 "nbformat_minor": 2
}
